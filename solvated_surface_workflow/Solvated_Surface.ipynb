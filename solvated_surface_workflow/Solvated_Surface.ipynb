{
 "cells": [
  {
   "cell_type": "markdown",
   "id": "06f2e81c",
   "metadata": {},
   "source": [
    "## MoSDeF-Signac Tutorial\n",
    "### Solvated Surface Screening\n",
    "---\n",
    "\n",
    "### Tutorial summary\n",
    "This tutorial aims to familiarize a molecular simulations researcher on the ways to \n",
    "control a workflow managed by [Signac.](https://docs.signac.io/en/latest/) This is\n",
    "an important tool for accessing and storing workflow metadata such that the workflow\n",
    "is standardized and [extensible](https://doi.org/10.1080/00268976.2020.1742938), as \n",
    "part of the TRUE nature of computational research.\n",
    "\n",
    "The following workflows will show how to:\n",
    "1. Calculate the interfacial structures of different water models. Water models include:\n",
    "    - SPC\n",
    "    - SPC/E\n",
    "    - SPC-flex\n",
    "    - TIP3P-original\n",
    "    - TIP3P-modified\n",
    "    - OPC \n",
    "2. Build functional workflows that pull specifications from Signac job criteria.\n",
    "3. Run HOOMD simulations and process data in a standardized format for easy extension of the project aims.\n",
    "\n",
    "### Learning Objectives\n",
    "1. How to operate/set up a [Signac](https://signac.io/) workflow.\n",
    "2. Using [mBuild](https://mbuild.mosdef.org/en/stable/) recipes and scripts for functional workflows.\n",
    "3. How to pass job metadata to a simulation process.\n",
    "4. [HOOMD-blue](https://hoomd-blue.readthedocs.io/en/v4.1.0/) simulations.\n",
    "5. Data processing.\n",
    "\n",
    "### Sections\n",
    "0. Google Colab Setup and import packages\n",
    "1. Initialize Signac Project\n",
    "2. Generate mBuild Structures\n",
    "3. Apply Force Fields\n",
    "4. Run HOOMD-blue Simulations\n",
    "5. Analyze/Record Results"
   ]
  },
  {
   "cell_type": "markdown",
   "id": "891fad72",
   "metadata": {},
   "source": [
    "## 0. Google Colab Setup\n",
    "---\n",
    "Run these next three panes only if you are using Google Collab for this notebook"
   ]
  },
  {
   "cell_type": "code",
   "execution_count": null,
   "id": "2ddbcf1a",
   "metadata": {},
   "outputs": [],
   "source": [
    "!pip install -q condacolab\n",
    "import condacolab\n",
    "condacolab.install_miniforge()\n",
    "\n",
    "import condacolab\n",
    "condacolab.check()\n",
    "\n",
    "!conda install mamba\n",
    "!git clone https://github.com/mosdef-hub/reproducibility_study.git\n",
    "!mamba env update -n base -f reproducibility_study/environment.yml"
   ]
  },
  {
   "cell_type": "code",
   "execution_count": null,
   "id": "8e281681",
   "metadata": {},
   "outputs": [],
   "source": [
    "!mamba install mbuild foyer hoomd gsd signac mdanalysis #gmso"
   ]
  },
  {
   "cell_type": "code",
   "execution_count": null,
   "id": "062ae9de",
   "metadata": {},
   "outputs": [],
   "source": [
    "!git clone https://github.com/CalCraven/gmso.git\n",
    "%cd gmso\n",
    "!git fetch origin hoomd-testing-cecam\n",
    "!pip install .\n",
    "%cd ..\n",
    "!git clone https://github.com/CalCraven/surface_coatings.git\n",
    "%cd surface_coatings\n",
    "!git fetch origin colab-installation\n",
    "!git checkout colab-installation\n",
    "!pip install .\n",
    "%cd .."
   ]
  },
  {
   "cell_type": "code",
   "execution_count": null,
   "id": "3ad6b351",
   "metadata": {},
   "outputs": [],
   "source": [
    "!git clone --branch solvated-surface-wkflw https://github.com/CalCraven/CECAM-MoSDeF-Workshop.git\n",
    "%cd CECAM-MoSDeF-Workshop/solvated_surface_workflow/\n",
    "!pwd"
   ]
  },
  {
   "cell_type": "markdown",
   "id": "3b85cd0a",
   "metadata": {},
   "source": [
    "## 0. Import packages\n",
    "---"
   ]
  },
  {
   "cell_type": "code",
   "execution_count": null,
   "id": "681d652e",
   "metadata": {},
   "outputs": [],
   "source": [
    "# Import Libraries\n",
    "import itertools\n",
    "import os\n",
    "\n",
    "import signac\n",
    "import mbuild as mb\n",
    "import gmso\n",
    "from gmso.parameterization import apply\n",
    "import gsd\n",
    "import unyt as u\n",
    "\n",
    "from surface_coatings.monolayer import Monolayer\n",
    "from surface_coatings.solvated_monolayer import SolvatedMonolayer\n",
    "from surface_coatings.surfaces.silica_interface import SilicaInterface\n",
    "from surface_coatings.surfaces.silica_interface_carve import SilicaInterfaceCarve\n",
    "from surface_coatings.chains.alkylsilane import Alkylsilane"
   ]
  },
  {
   "cell_type": "markdown",
   "id": "a4a8c647",
   "metadata": {},
   "source": [
    "## 1. Initialize Signac Project\n",
    "---\n",
    "From the Signac Documentation:\n",
    "\"The signac framework supports researchers in managing project-related data with a well-defined indexable storage layout for data and metadata. This streamlines post-processing and analysis and makes data collectively accessible. The signac framework aims to help make computational research projects Transparent, Reproducible, Usable by others, and Extensible (TRUE) [TGM+20], a set of principles put forth by the MoSDeF Collaboration [CMI+21].\"\n",
    "\n",
    "#### Step 1.\n",
    "We will use signac to define some project parameters. The parameters are stored in `jobs` that are a unique set of arguments that define some unique set of observations to make in the study. The following `grid` function is a standard way to generate all combinations of the specified statepoint, defined in the dictionary (`sp_gridDict`). \n",
    "\n",
    "Run the following cell and evaluate the project that is generated."
   ]
  },
  {
   "cell_type": "code",
   "execution_count": null,
   "id": "d83458ac",
   "metadata": {},
   "outputs": [],
   "source": [
    "def grid(gridspec):\n",
    "    \"\"\"Yields the Cartesian product of a `dict` of iterables.\n",
    "\n",
    "    The input ``gridspec`` is a dictionary whose keys correspond to\n",
    "    parameter names. Each key is associated with an iterable of the\n",
    "    values that parameter could take on. The result is a sequence of\n",
    "    dictionaries where each dictionary has one of the unique combinations\n",
    "    of the parameter values.\n",
    "    \"\"\"\n",
    "    for values in itertools.product(*gridspec.values()):\n",
    "        yield dict(zip(gridspec.keys(), values))\n",
    "\n",
    "project = signac.init_project(\"./solvated_surface_project\")\n",
    "# generate statepoints:\n",
    "sp_gridDict = {\n",
    "    \"water_model\":[\"spce\"], # forcefield to use\n",
    "    \"temperature\":[298.15],  # K\n",
    "    \"chain_density\":[3], # chains/nm \n",
    "    \"chain_length\":[4], # n_carbons\n",
    "    \"solvent_box_height\": [3], #nm\n",
    "    \"seed\":[42901423],\n",
    "}\n",
    "        \n",
    "for sp in grid(sp_gridDict):\n",
    "    print(\"Initializing job\", sp)\n",
    "    project.open_job(sp).init()\n",
    "project"
   ]
  },
  {
   "cell_type": "markdown",
   "id": "e5d44eba",
   "metadata": {},
   "source": [
    "The project creation generates a directory on the hard drive with information related to the project defintion. Here are a list of some of the files."
   ]
  },
  {
   "cell_type": "code",
   "execution_count": null,
   "id": "c6476ec3",
   "metadata": {},
   "outputs": [],
   "source": [
    "!ls -a solvated_surface_project/"
   ]
  },
  {
   "cell_type": "markdown",
   "id": "963cc49c",
   "metadata": {},
   "source": [
    "The workspace is a directory where the individual jobs that were initialized above are stored. These are differentiated by unique hashes generatedfrom each statepoint, and so there's no risk of accidentally overwriting data for a different job.\n",
    "\n",
    "Let's look at the `signac_statepoint.json` file in one of our jobs."
   ]
  },
  {
   "cell_type": "code",
   "execution_count": null,
   "id": "08d60ece",
   "metadata": {},
   "outputs": [],
   "source": [
    "!cat solvated_surface_project/workspace/f959300be61c911cc8512fd1619077d2/signac_statepoint.json"
   ]
  },
  {
   "cell_type": "markdown",
   "id": "16c05695",
   "metadata": {},
   "source": [
    "Nice work! You should see something that looks like a python dictionary with all of the information that was passed in the above cells. For more information on how to access this job metadata, see the following [signac tutorials.](https://docs.signac.io/en/latest/tutorial.html#interacting-with-the-signac-project)"
   ]
  },
  {
   "cell_type": "markdown",
   "id": "d11fe436",
   "metadata": {},
   "source": [
    "### Exercise 1: Try to add a new job to the workspace. Validate that the directory is added properly"
   ]
  },
  {
   "cell_type": "code",
   "execution_count": null,
   "id": "5dc72407",
   "metadata": {},
   "outputs": [],
   "source": [
    "project = signac.get_project(\"./solvated_surface_project/\")\n",
    "jobSP = { #initialize a dictionary statepoint\n",
    "    \"water_model\":\"spce\", # forcefield to use\n",
    "    \"temperature\":???,  # K\n",
    "    \"chain_density\":???, # chains/nm \n",
    "    \"chain_length\":???, # n_carbons\n",
    "    \"solvent_box_height\": 3, #nm\n",
    "    \"seed\":42901423,\n",
    "}\n",
    "project.??? # open and initialize the jobSP dictionary you made\n",
    "project # how many jobs are there now?"
   ]
  },
  {
   "cell_type": "markdown",
   "id": "7b68e4f4",
   "metadata": {},
   "source": [
    "## 2. Generate mBuild Structures\n",
    "---\n",
    "\n",
    "#### Step 2.\n",
    "Next we will use `mBuild` (which you're already an expert in) to build up the individual components of our surface. The key components in this hierarchical structure are:\n",
    "1. The surface, made from silica. This will be loaded via premade recipe in the [coated_surfaces](https://github.com/daico007/surface_coatings/tree/main) repository.\n",
    "2. The chains to attach to the surface. These are alkylsilane chains, built using the [Polymer Builder](https://github.com/mosdef-hub/mbuild/blob/main/mbuild/lib/recipes/polymer.py) recipe in `mBuild`.\n",
    "3. The water atoms, which are simple three site HOH molecules, made from the [SMILES string](https://www.daylight.com/dayhtml/doc/theory/theory.smiles.html). "
   ]
  },
  {
   "cell_type": "code",
   "execution_count": null,
   "id": "7bf5f9ef",
   "metadata": {},
   "outputs": [],
   "source": [
    "job_compoundDict = {} # dictionary to store job compounds\n",
    "\n",
    "# load the water\n",
    "water = mb.load(\"O\", smiles=True)\n",
    "water.name = \"water\"\n",
    "solvent_density = 0.35 * u.g/u.cm**3 # calculate density in g/cm^3\n",
    "atomic_density = solvent_density / (u.amu.to(\"g\")) / water.mass # convert density to atoms/nm^3\n",
    "print(f\"Atoms/nm^3 is: {atomic_density.to('nm**-3'):.0f}\")\n",
    "\n",
    "for job in project: #iterate over all jobs using a simple for loop on the `project`\n",
    "    chain = Alkylsilane(chain_length=job.sp.chain_length) #create a chain\n",
    "    chain.energy_minimize()\n",
    "    surface = SilicaInterfaceCarve(thickness=1.2)\n",
    "    surface_area = surface.box.Lx * surface.box.Ly\n",
    "    n_chains=int(job.sp.chain_density*surface_area)\n",
    "    n_chains=5\n",
    "    graft_pattern = mb.Random2DPattern(n_chains, seed=job.sp.seed)\n",
    "    monolayer = Monolayer(surface, graft_pattern, chain, n_chains=n_chains)\n",
    "    monolayer.name = \"surface\"\n",
    "    n_waters = int(surface_area*job.sp.solvent_box_height*atomic_density.to(\"nm**-3\").value)\n",
    "    print(f\"Adding {n_waters:d} waters to the system.\")\n",
    "    solvated_monolayer = SolvatedMonolayer(monolayer, water, n_waters, job.sp.solvent_box_height)\n",
    "    job_compoundDict[job] = { # store the saved components for visualization\n",
    "        \"water\":water, \n",
    "        \"chain\": chain, \n",
    "        \"surface\":surface, \n",
    "        \"solvated_monolayer\":solvated_monolayer\n",
    "    }\n"
   ]
  },
  {
   "cell_type": "markdown",
   "id": "2e0f2b1d",
   "metadata": {},
   "source": [
    "Let's visualize the monolayer that was built."
   ]
  },
  {
   "cell_type": "code",
   "execution_count": null,
   "id": "3e7b8d53",
   "metadata": {},
   "outputs": [],
   "source": [
    "solvated_monolayer.visualize()"
   ]
  },
  {
   "cell_type": "markdown",
   "id": "900860a0",
   "metadata": {},
   "source": [
    "#### Exercise 2: The water was packed at too low of a density.\n",
    "Try to pack the water at a higher density. Find the line\n",
    "`solvent_density = 0.35 * u.g/u.cm**3 # g/cm^3` \n",
    "and replace `0.35` with `0.85` for a better packed system. Note that this may take longer due the packing algorithms.\n",
    "\n",
    "Also, there looks like there's a gap in between the water box and the top of the surface. Fix that by adding\n",
    "\n",
    "\n",
    "`solvated_monolayer.children[1].translate([0,0,-0.3])`\n",
    "\n",
    "\n",
    "To move just the water molecules down by 0.3 nm. This should be added after the line\n",
    "\n",
    "\n",
    "`solvated_monolayer = SolvatedMonolayer(monolayer, water, n_waters, job.sp.solvent_box_height)`"
   ]
  },
  {
   "cell_type": "markdown",
   "id": "8bd6f9a5",
   "metadata": {},
   "source": [
    "## 3. Apply Force Fields\n",
    "---\n",
    "\n",
    "#### Step 3. \n",
    "We must now use force fields that define the potential equations of this system. The force fields are stored on disk as XML files. These define all of the forces needed for the simulation. Multiple force fields can be applied to different molecules in the `mBuild` compound but be certain that these force fields are compatible (i.e. same mixing rule, 1-4 scaling, cutoffs). Also, while these force fields are stored in a generalized format, not all simulation engines can support all force field types, so keep that in mind when selecting a force field to use.\n",
    "\n",
    "We can iterate through the jobs, grab the solvated surfaces, load the water force field specified in `job.sp.water_model` from the `xmls/` directory in this project, and create our parameterized GMSO `Topology`. \n",
    "\n",
    "First though, let's look at the syntax for the apply step. "
   ]
  },
  {
   "cell_type": "code",
   "execution_count": null,
   "id": "0760793c",
   "metadata": {
    "scrolled": false
   },
   "outputs": [],
   "source": [
    "from gmso.parameterization import apply\n",
    "help(apply)"
   ]
  },
  {
   "cell_type": "markdown",
   "id": "b12174a9",
   "metadata": {},
   "source": [
    "Now let's apply the [OPLSAA force field](https://pubs.acs.org/doi/10.1021/ja9621760) to the surface and the specified water force field from the `job.sp.water_model`."
   ]
  },
  {
   "cell_type": "code",
   "execution_count": null,
   "id": "e02b9362",
   "metadata": {},
   "outputs": [],
   "source": [
    "surfaceFF = gmso.ForceField(\"xmls/oplsaa.xml\") # load a general opls all atom forcefield from the directory\n",
    "\n",
    "for job in project:\n",
    "    ff_path = os.path.join(\"xmls\", job.sp.water_model+\".xml\")\n",
    "    waterFF = gmso.ForceField(ff_path)\n",
    "    top = job_compoundDict[job][\"solvated_monolayer\"].to_gmso()\n",
    "    top.identify_connections() # generate bonds, angles, and dihedrals\n",
    "    parameterized_top = apply(\n",
    "        top, forcefields={\"surface\": surfaceFF, \"water\":waterFF}, \n",
    "    )\n",
    "    job_compoundDict[job][\"parameterized_top\"] = parameterized_top\n",
    "                              \n",
    "parameterized_top   "
   ]
  },
  {
   "cell_type": "markdown",
   "id": "28382868",
   "metadata": {},
   "source": [
    "#### Exercise 3a: Identify the aspectes of the parameterized topology\n",
    "What is the bonded equation that is being used from both of our forcefields?\n",
    "\n",
    "To identify this, we need to interrogate the `parameterized_topology` object. Components are stored in IndexedSets. These can be accessed via list indexing."
   ]
  },
  {
   "cell_type": "code",
   "execution_count": null,
   "id": "307ae576",
   "metadata": {},
   "outputs": [],
   "source": [
    "parameterized_top.bonds[?]???_type.expression # access index 0 and print then access the bond_type.expression\n",
    "# this can also be done with angles, dihedrals, and impropers\n",
    "parameterized_top.angles.???"
   ]
  },
  {
   "cell_type": "markdown",
   "id": "5e56ef51",
   "metadata": {},
   "source": [
    "#### Answer should look something like this:\n",
    "0.5𝑘(𝑟−𝑟𝑒𝑞)2"
   ]
  },
  {
   "cell_type": "markdown",
   "id": "b3df7d10",
   "metadata": {},
   "source": [
    "#### Exercise 3b: What is the number of unique bond types in the topology?\n",
    "\n",
    "To identify that, use a filter to look for bond_types with a unique pair of atom classes"
   ]
  },
  {
   "cell_type": "markdown",
   "id": "dfd899ed",
   "metadata": {},
   "source": [
    "Potential filters allow the user to specify what is `unique` about the type. These give a flexible set of methods to get the unique types in the system. For instance, there may be a set with unique parameters. Maybe you want to look at the set with unique full potential expressions. In this case, we will sort by the unique names of the atom_classes that make up the bonded atoms."
   ]
  },
  {
   "cell_type": "code",
   "execution_count": null,
   "id": "754c2162",
   "metadata": {},
   "outputs": [],
   "source": [
    "from gmso.core.views import PotentialFilters\n",
    "\n",
    "pfilter = PotentialFilters.UNIQUE_NAME_CLASS\n",
    "print(f\"There are {len(parameterized_top.bond_types(filter_by=pfilter))} uniquely named bond types\")\n",
    "# try a different filter from the PotentialFilters class"
   ]
  },
  {
   "cell_type": "markdown",
   "id": "29580c61",
   "metadata": {},
   "source": [
    "## 4. Run HOOMD-blue Simulations\n",
    "---\n",
    "\n",
    "#### Step 4.\n",
    "Now let's run our [HOOMD](https://hoomd-blue.readthedocs.io/en/v4.1.0/) simulations for each job. We create a generalized `run_hoomd` python function here which accepts whatever we write out from the GMSO Topology `parameterized_top`."
   ]
  },
  {
   "cell_type": "code",
   "execution_count": null,
   "id": "89d45b8a",
   "metadata": {
    "scrolled": true
   },
   "outputs": [],
   "source": [
    "from gmso.external import to_hoomd_snapshot, to_hoomd_forcefield\n",
    "import hoomd\n",
    "import numpy as np\n",
    "n_steps=5000\n",
    "\"\"\"Simulation configuration and runtime parameters.\"\"\"\n",
    "base_units = { # this unit sytems lets hoomd non-dimensionalize all parameters in the forcefield\n",
    "    \"mass\": u.g / u.mol,\n",
    "    \"length\": u.nm,\n",
    "    \"energy\": u.kJ / u.mol,\n",
    "}\n",
    "job = project.open_job(id=\"fdb859acfdae44e289ad701c747452f1\")\n",
    "parameterized_top = job_compoundDict[job][\"parameterized_top\"]\n",
    "gmso_snapshot, snapshot_base_units = to_hoomd_snapshot( # TODO: simulation forces and connections are ordered differently\n",
    "    parameterized_top, base_units=base_units\n",
    ")\n",
    "gmso_forces, forces_base_units = to_hoomd_forcefield( #TODO: can't handle dimensionless parameters currently, PR incoming\n",
    "    parameterized_top,\n",
    "    r_cut=0.6,\n",
    "    base_units=base_units,\n",
    "    pppm_kwargs={\"resolution\": (32,32,32), \"order\": 7},\n",
    ")\n",
    "\n",
    "\n",
    "filter_ = hoomd.filter.Tags(list(np.arange(1500, parameterized_top.n_sites+1)))\n",
    "#filter_ = hoomd.filter.Tags(list(np.arange(2100, top.n_sites+1)))\n",
    "#filter_ = ZSliceFilter(min_position+0.1)\n",
    "\n",
    "\n",
    "cpu = hoomd.device.CPU()\n",
    "sim = hoomd.Simulation(device=cpu, seed=1)\n",
    "\n",
    "sim.create_state_from_snapshot(gmso_snapshot)\n",
    "temp = job.sp.temperature * u.K\n",
    "kT = temp.to_equivalent(\"kJ/mol\", \"thermal\").value\n",
    "sim.state.thermalize_particle_momenta(filter=filter_, kT=kT)\n",
    "\n",
    "fire = hoomd.md.minimize.FIRE(\n",
    "    dt=0.001,\n",
    "    force_tol=1e-1,\n",
    "    angmom_tol=1e-1,\n",
    "    energy_tol=1e-5,\n",
    "    forces=list(set().union(*gmso_forces.values()))\n",
    ")\n",
    "displacement_capped = hoomd.md.methods.DisplacementCapped(\n",
    "    filter=filter_,\n",
    "    maximum_displacement=1e-3)\n",
    "fire.methods.append(displacement_capped)\n",
    "sim.operations.integrator = fire\n",
    "\n",
    "\n",
    "outlogger = hoomd.logging.Logger(categories=['scalar', 'string'])\n",
    "outlogger.add(sim, quantities=['timestep', 'tps'])\n",
    "thermodynamic_properties = hoomd.md.compute.ThermodynamicQuantities(\n",
    "    filter=filter_\n",
    ")\n",
    "sim.operations.computes.append(thermodynamic_properties)\n",
    "outlogger.add(thermodynamic_properties, ['kinetic_temperature', \"potential_energy\"])\n",
    "table = hoomd.write.Table(\n",
    "    trigger=hoomd.trigger.Periodic(period=100),\n",
    "    logger=outlogger\n",
    ")\n",
    "sim.operations.writers.append(table)\n",
    "\n",
    "\n",
    "while not(fire.converged):\n",
    "    sim.run(1000)\n",
    "    if sim.timestep > 50000:\n",
    "        break"
   ]
  },
  {
   "cell_type": "code",
   "execution_count": null,
   "id": "d9281932",
   "metadata": {},
   "outputs": [],
   "source": [
    "displacement_capped = hoomd.md.methods.DisplacementCapped(\n",
    "    filter=filter_,\n",
    "    maximum_displacement=1e-1)\n",
    "fire.methods = [displacement_capped]\n",
    "while not(fire.converged):\n",
    "    sim.run(1000)\n",
    "    if sim.timestep > 50000:\n",
    "        break\n",
    "\n",
    "#sim.operations.writers.remove(table)\n",
    "#sim.operations.integrator = []\n",
    "\n",
    "#sim.operations.integrator = hoomd.md.Integrator(dt=0.0001)\n",
    "#sim.operations.integrator.forces.extend(\n",
    "#    list(set().union(*gmso_forces.values()))\n",
    "#)\n",
    "#thermostat = hoomd.md.methods.thermostats.Bussi(kT)\n",
    "#nvt = hoomd.md.methods.ConstantVolume(\n",
    "#    thermostat=thermostat, filter=filter_\n",
    "#)\n",
    "#sim.operations.integrator.methods.append(nvt)\n",
    "#sim.state.thermalize_particle_momenta(filter=filter_, kT=kT)\n",
    "#thermodynamic_properties = hoomd.md.compute.ThermodynamicQuantities(\n",
    "#    filter=filter_\n",
    "#)"
   ]
  },
  {
   "cell_type": "markdown",
   "id": "9c9e33b8",
   "metadata": {},
   "source": [
    "## 5. Analyze/Record Results\n",
    "---\n",
    "\n",
    "#### Step 5. \n",
    "Plot the simulation energies."
   ]
  },
  {
   "cell_type": "code",
   "execution_count": null,
   "id": "20ed25a9",
   "metadata": {},
   "outputs": [],
   "source": [
    "import gsd\n",
    "job = project.open_job(id=\"fdb859acfdae44e289ad701c747452f1\")\n",
    "data_path = job.fn(\"trajectory.gsd\")\n",
    "data = gsd.hoomd.read_log(data_path)\n",
    "timestep = data['configuration/step']\n",
    "potential_energy = data[\n",
    "    'log/md/compute/ThermodynamicQuantities/potential_energy']\n",
    "\n",
    "fig, ax = plt.subplots(1,1,figsize=(5, 3.09))\n",
    "ax.plot(timestep, potential_energy)\n",
    "ax.set_xlabel('timestep')\n",
    "ax.set_ylabel('potential energy')\n",
    "fig.show()"
   ]
  },
  {
   "cell_type": "markdown",
   "id": "530d5034",
   "metadata": {},
   "source": [
    "#### Exercise 5.\n",
    "Load the trajectories into MDAnalysis. Lots of typical simulation analysis is then accessible for the trajectory."
   ]
  },
  {
   "cell_type": "code",
   "execution_count": null,
   "id": "4e89c17e",
   "metadata": {},
   "outputs": [],
   "source": [
    "from MDAnalysis import Universe\n",
    "for job in project:\n",
    "    universe = Universe(job.fn(\"trajectory.???\")) # <-- use the gsd loader. \n",
    "    #From here, you can convert the trajectory into many different options, \n",
    "    # Such as mdtraj gromacs, and freud."
   ]
  }
 ],
 "metadata": {
  "kernelspec": {
   "display_name": "Python 3 (ipykernel)",
   "language": "python",
   "name": "python3"
  },
  "language_info": {
   "codemirror_mode": {
    "name": "ipython",
    "version": 3
   },
   "file_extension": ".py",
   "mimetype": "text/x-python",
   "name": "python",
   "nbconvert_exporter": "python",
   "pygments_lexer": "ipython3",
   "version": "3.11.3"
  }
 },
 "nbformat": 4,
 "nbformat_minor": 5
}
