{
 "cells": [
  {
   "cell_type": "markdown",
   "id": "06f2e81c",
   "metadata": {},
   "source": [
    "## MoSDeF-Signac Tutorial\n",
    "### Solvated Surface Screening\n",
    "---\n",
    "This workshop is presented (WIP) at the 2023 CECAM Tutorials in Mainz Germany\n",
    "23-09-27\n",
    "Developed by Cal Craven, Co Quach, Kieran Nehils-Puleo, and Eric Jankowski\n",
    "\n",
    "### Tutorial summary\n",
    "This tutorial aims to familiarize a molecular simulations researcher on the ways to \n",
    "control a workflow managed by [Signac.](https://docs.signac.io/en/latest/) This is\n",
    "an important tool for accessing and storing workflow metadata such that the workflow\n",
    "is standardized and [extensible](https://doi.org/10.1080/00268976.2020.1742938), as \n",
    "part of the TRUE nature of computational research.\n",
    "\n",
    "The following workflows will show how to:\n",
    "1. Calculate the interfacial structures of different water models. Water models include:\n",
    "    - SPC\n",
    "    - SPC/E (in)\n",
    "    - SPC-flex\n",
    "    - TIP3P-original (in)\n",
    "    - TIP3P-modified\n",
    "    - OPC (in)\n",
    "2. Build functional workflows that pull specifications from Signac job criteria.\n",
    "3. Run HOOMD simulations and process data in a standardized format for easy extension of the project aims.\n",
    "\n",
    "OTHERS Water ForceFields to Include\n",
    "---\n",
    "CVFF\n",
    "BLXL\n",
    "MG\n",
    "All the tip4ps\n",
    "SPC-2site\n",
    "\n",
    "### Learning Guidelines\n",
    "1. How to operate/set up a signac workflow\n",
    "2. Using mBuild recipes/scripts for functional workflows\n",
    "3. How to pass job metadata to a simulation process\n",
    "4. HOOMD simulations\n",
    "5. Data processing\n",
    "\n",
    "### Changes for individual tinkering/things you can change\n",
    "1. Which surfaces to build\n",
    "2. Which water models to choose\n",
    "3. Which simulation statepoints you run\n",
    "4. Modifying the plotting code\n",
    "5. Optional details on how to set up signac-dashboard\n",
    "6. More details on setting up/checking project status from CLI\n",
    "\n",
    "### TODOS:\n",
    "1. warnings </br>\n",
    "    - mbuild periodic kdtree warnings \n",
    "    - Compound.box.lengths < Compound.boundingbox.lengths\n",
    "    - charges\n",
    "    - extra links to signac\n",
    "    - missing improper types\n",
    "2. Needs GMSO PR 749 xml-conversions\n",
    "3. OPLSAA forcefield for surface is bulky/ needs doi\n",
    "4. Cool results analysis\n",
    "5. Run hoomd sims on multi-cores\n",
    "6. Time test\n",
    "7. Add explanation text\n",
    "8. Question and answer text (fill in response, or code)\n",
    "9. Slow packmol"
   ]
  },
  {
   "cell_type": "markdown",
   "id": "84966d5d",
   "metadata": {},
   "source": [
    "## GOOGLE COLAB Setup\n",
    "---\n",
    "Run these next three panes only if you are using Google Collab for this notebook"
   ]
  },
  {
   "cell_type": "code",
   "execution_count": null,
   "id": "47f82069",
   "metadata": {},
   "outputs": [],
   "source": [
    "!pip install -q condacolab\n",
    "import condacolab\n",
    "condacolab.install_miniforge()\n",
    "\n",
    "import condacolab\n",
    "condacolab.check()\n",
    "\n",
    "!conda install mamba\n",
    "!git clone https://github.com/mosdef-hub/reproducibility_study.git\n",
    "!mamba env update -n base reproducibility_study/environment.yml\n",
    "\n",
    "\n",
    "!mamba env update -n base -f reproducibility_study/environment.yml"
   ]
  },
  {
   "cell_type": "code",
   "execution_count": null,
   "id": "569ff3bb",
   "metadata": {},
   "outputs": [],
   "source": [
    "!mamba install mbuild foyer gmso hoomd gsd"
   ]
  },
  {
   "cell_type": "code",
   "execution_count": null,
   "id": "3bb916cf",
   "metadata": {},
   "outputs": [],
   "source": [
    "!git clone --branch colab-installation https://github.com/CalCraven/surface_coatings.git\n",
    "%cd surface_coatings\n",
    "!pip install -e .\n",
    "%cd ..\n",
    "!git clone https://github.com/CalCraven/CECAM-MoSDeF-Workshop.git\n",
    "%cd CECAM-MoSDeF-Workshop/solvated_surface_workflow/\n",
    "!pwd"
   ]
  },
  {
   "cell_type": "markdown",
   "id": "3b85cd0a",
   "metadata": {},
   "source": [
    "## Import packages\n",
    "---"
   ]
  },
  {
   "cell_type": "code",
   "execution_count": 1,
   "id": "681d652e",
   "metadata": {},
   "outputs": [
    {
     "name": "stderr",
     "output_type": "stream",
     "text": [
      "/Users/calcraven/miniconda3/envs/gmso-dev2/lib/python3.11/site-packages/mdtraj/formats/__init__.py:6: DeprecationWarning: 'xdrlib' is deprecated and slated for removal in Python 3.13\n",
      "  from .xtc import XTCTrajectoryFile\n",
      "/Users/calcraven/miniconda3/envs/gmso-dev2/lib/python3.11/site-packages/lark/utils.py:163: DeprecationWarning: module 'sre_parse' is deprecated\n",
      "  import sre_parse\n",
      "/Users/calcraven/miniconda3/envs/gmso-dev2/lib/python3.11/site-packages/lark/utils.py:164: DeprecationWarning: module 'sre_constants' is deprecated\n",
      "  import sre_constants\n",
      "/Users/calcraven/Dropbox/Mac/Documents/Vanderbilt/Research/MoSDeF/mbuild/mbuild/recipes/__init__.py:13: DeprecationWarning: SelectableGroups dict interface is deprecated. Use select.\n",
      "  entry_points = metadata.entry_points()[\"mbuild.plugins\"]\n",
      "/Users/calcraven/Dropbox/Mac/Documents/Vanderbilt/Research/MoSDeF/Workshops/2023-CECAM-Workshop/git_repos/gmso/gmso/formats/mol2.py:79: UserWarning: The record type indicator Meta is not supported. Skipping current section and moving to the next RTI header.\n",
      "  warnings.warn(\n",
      "/Users/calcraven/Dropbox/Mac/Documents/Vanderbilt/Research/MoSDeF/Workshops/2023-CECAM-Workshop/git_repos/gmso/gmso/formats/mol2.py:79: UserWarning: The record type indicator @<TRIPOS>SUBSTRUCTURE is not supported. Skipping current section and moving to the next RTI header.\n",
      "  warnings.warn(\n"
     ]
    }
   ],
   "source": [
    "# Import Libraries\n",
    "import itertools\n",
    "import os\n",
    "\n",
    "import signac\n",
    "import mbuild as mb\n",
    "import gmso\n",
    "from gmso.parameterization import apply\n",
    "import gsd\n",
    "import unyt as u\n",
    "\n",
    "from surface_coatings.monolayer import Monolayer\n",
    "from surface_coatings.solvated_monolayer import SolvatedMonolayer\n",
    "from surface_coatings.surfaces.silica_interface import SilicaInterface\n",
    "from surface_coatings.chains.alkylsilane import Alkylsilane"
   ]
  },
  {
   "cell_type": "markdown",
   "id": "a4a8c647",
   "metadata": {},
   "source": [
    "## Initialize Signac Project\n",
    "---\n",
    "The first step is to define the project parameters. The following `grid` function is a standard way to complete all combinations of the specified statepoint dictionary (`sp_gridDict`). \n",
    "\n",
    "Run the following cell and evaluate the project that is generated."
   ]
  },
  {
   "cell_type": "code",
   "execution_count": 32,
   "id": "d83458ac",
   "metadata": {},
   "outputs": [
    {
     "name": "stdout",
     "output_type": "stream",
     "text": [
      "Initializing job {'water_model': 'OPC3', 'temperature': 298.15, 'chain_density': 3, 'chain_length': 4, 'solvent_box_height': 3, 'seed': 42901423}\n",
      "Initializing job {'water_model': 'spce', 'temperature': 298.15, 'chain_density': 3, 'chain_length': 4, 'solvent_box_height': 3, 'seed': 42901423}\n"
     ]
    },
    {
     "data": {
      "text/html": [
       "<p><strong>Project:</strong> /Users/calcraven/Dropbox/Mac/Documents/Vanderbilt/Research/MoSDeF/Workshops/2023-CECAM-Workshop/Signac_Project/solvated_surface_project<br><strong>Workspace:</strong> /Users/calcraven/Dropbox/Mac/Documents/Vanderbilt/Research/MoSDeF/Workshops/2023-CECAM-Workshop/Signac_Project/solvated_surface_project/workspace<br><strong>Size:</strong> 2</p><div>\n",
       "<style scoped>\n",
       "    .dataframe tbody tr th:only-of-type {\n",
       "        vertical-align: middle;\n",
       "    }\n",
       "\n",
       "    .dataframe tbody tr th {\n",
       "        vertical-align: top;\n",
       "    }\n",
       "\n",
       "    .dataframe thead th {\n",
       "        text-align: right;\n",
       "    }\n",
       "</style>\n",
       "<table border=\"1\" class=\"dataframe\">\n",
       "  <thead>\n",
       "    <tr style=\"text-align: right;\">\n",
       "      <th></th>\n",
       "      <th>sp.water_model</th>\n",
       "      <th>sp.temperature</th>\n",
       "      <th>sp.chain_density</th>\n",
       "      <th>sp.chain_length</th>\n",
       "      <th>sp.solvent_box_height</th>\n",
       "      <th>sp.seed</th>\n",
       "    </tr>\n",
       "  </thead>\n",
       "  <tbody>\n",
       "    <tr>\n",
       "      <th>f959300be61c911cc8512fd1619077d2</th>\n",
       "      <td>OPC3</td>\n",
       "      <td>298.15</td>\n",
       "      <td>3</td>\n",
       "      <td>4</td>\n",
       "      <td>3</td>\n",
       "      <td>42901423</td>\n",
       "    </tr>\n",
       "    <tr>\n",
       "      <th>fdb859acfdae44e289ad701c747452f1</th>\n",
       "      <td>spce</td>\n",
       "      <td>298.15</td>\n",
       "      <td>3</td>\n",
       "      <td>4</td>\n",
       "      <td>3</td>\n",
       "      <td>42901423</td>\n",
       "    </tr>\n",
       "  </tbody>\n",
       "</table>\n",
       "</div>"
      ],
      "text/plain": [
       "Project('/Users/calcraven/Dropbox/Mac/Documents/Vanderbilt/Research/MoSDeF/Workshops/2023-CECAM-Workshop/Signac_Project/solvated_surface_project')"
      ]
     },
     "execution_count": 32,
     "metadata": {},
     "output_type": "execute_result"
    }
   ],
   "source": [
    "def grid(gridspec):\n",
    "    \"\"\"Yields the Cartesian product of a `dict` of iterables.\n",
    "\n",
    "    The input ``gridspec`` is a dictionary whose keys correspond to\n",
    "    parameter names. Each key is associated with an iterable of the\n",
    "    values that parameter could take on. The result is a sequence of\n",
    "    dictionaries where each dictionary has one of the unique combinations\n",
    "    of the parameter values.\n",
    "    \"\"\"\n",
    "    for values in itertools.product(*gridspec.values()):\n",
    "        yield dict(zip(gridspec.keys(), values))\n",
    "\n",
    "project = signac.init_project(\"./solvated_surface_project\")\n",
    "# generate statepoints:\n",
    "sp_gridDict = {\n",
    "    \"water_model\":[\"OPC3\", \"spce\"], # forcefield to use\n",
    "    \"temperature\":[298.15],  # K\n",
    "    \"chain_density\":[3], # chains/nm \n",
    "    \"chain_length\":[4], # n_carbons\n",
    "    \"solvent_box_height\": [3], #nm\n",
    "    \"seed\":[42901423],\n",
    "}\n",
    "        \n",
    "for sp in grid(sp_gridDict):\n",
    "    print(\"Initializing job\", sp)\n",
    "    project.open_job(sp).init()\n",
    "project"
   ]
  },
  {
   "cell_type": "markdown",
   "id": "7bed78c0",
   "metadata": {},
   "source": [
    "The project creation generates a directory on the hard drive with information related to the project defintion. Here are a list of some of the files."
   ]
  },
  {
   "cell_type": "code",
   "execution_count": 35,
   "id": "2d3411e5",
   "metadata": {},
   "outputs": [
    {
     "name": "stdout",
     "output_type": "stream",
     "text": [
      "\u001b[1m\u001b[36m.\u001b[m\u001b[m         \u001b[1m\u001b[36m..\u001b[m\u001b[m        \u001b[1m\u001b[36m.signac\u001b[m\u001b[m   \u001b[1m\u001b[36mworkspace\u001b[m\u001b[m\r\n"
     ]
    }
   ],
   "source": [
    "!ls -a solvated_surface_project/"
   ]
  },
  {
   "cell_type": "markdown",
   "id": "c0a29d86",
   "metadata": {},
   "source": [
    "The workspace is a directory where the individual jobs that were initialized above are stored. These are differentiated by unique hashes generatedfrom each statepoint, and so there's no risk of accidentally overwriting data for a different job.\n",
    "\n",
    "Let's look at the `signac_statepoint.json` file in one of our jobs."
   ]
  },
  {
   "cell_type": "code",
   "execution_count": 36,
   "id": "bebf4b2b",
   "metadata": {},
   "outputs": [
    {
     "name": "stdout",
     "output_type": "stream",
     "text": [
      "{\"water_model\": \"OPC3\", \"temperature\": 298.15, \"chain_density\": 3, \"chain_length\": 4, \"solvent_box_height\": 3, \"seed\": 42901423}"
     ]
    }
   ],
   "source": [
    "!cat solvated_surface_project/workspace/f959300be61c911cc8512fd1619077d2/signac_statepoint.json"
   ]
  },
  {
   "cell_type": "markdown",
   "id": "f2ce8aa3",
   "metadata": {},
   "source": [
    "Nice work! You should see something that looks like a python dictionary with all of the information that was passed in the above cells. To access this job metadata, see the following [signac tutorials.](https://docs.signac.io/en/latest/tutorial.html#interacting-with-the-signac-project)"
   ]
  },
  {
   "cell_type": "markdown",
   "id": "913fcc9f",
   "metadata": {},
   "source": [
    "### Challenge Problem: Try to add a new job to the workspace. Validate that the directory is added properly"
   ]
  },
  {
   "cell_type": "code",
   "execution_count": null,
   "id": "4fef2ca3",
   "metadata": {},
   "outputs": [],
   "source": [
    "project = signac.get_project(\"./solvated_surface_project/\")\n",
    "jobSP = { #initialize a dictionary statepoint\n",
    "    \"water_model\":\"spce\", # forcefield to use\n",
    "    \"temperature\":???,  # K\n",
    "    \"chain_density\":???, # chains/nm \n",
    "    \"chain_length\":???, # n_carbons\n",
    "    \"solvent_box_height\": 3, #nm\n",
    "    \"seed\":42901423,\n",
    "}\n",
    "project.??? # open and initialize the jobSP dictionary you made\n",
    "project # how many jobs are there now?"
   ]
  },
  {
   "cell_type": "markdown",
   "id": "7b68e4f4",
   "metadata": {},
   "source": [
    "## Generate structures\n",
    "---\n",
    "Next we will use `mBuild` (which you're already an expert in) to build up the individual components of our surface. The key components in this hierarchical structure are:\n",
    "1. The surface, made from silica. This will be loaded via premade recipe in the [coated_surfaces](https://github.com/daico007/surface_coatings/tree/main) repository.\n",
    "2. The chains to attach to the surface. These are alkylsilane chains, built using the [Polymer Builder](https://github.com/mosdef-hub/mbuild/blob/main/mbuild/lib/recipes/polymer.py) recipe in `mBuild`.\n",
    "3. The water atoms, which are simple three site HOH molecules, made from the SMILES string. "
   ]
  },
  {
   "cell_type": "code",
   "execution_count": 42,
   "id": "7bf5f9ef",
   "metadata": {},
   "outputs": [
    {
     "name": "stdout",
     "output_type": "stream",
     "text": [
      "Atoms/nm^3 is: 12 nm**(-3)\n",
      "Adding 882 waters to the system.\n",
      "Adding 882 waters to the system.\n"
     ]
    }
   ],
   "source": [
    "job_compoundDict = {} # dictionary to store job compounds\n",
    "\n",
    "# load the water\n",
    "water = mb.load(\"O\", smiles=True)\n",
    "water.name = \"water\"\n",
    "solvent_density = 0.35 * u.g/u.cm**3 # calculate density in g/cm^3\n",
    "atomic_density = solvent_density / (u.amu.to(\"g\")) / water.mass # convert density to atoms/nm^3\n",
    "print(f\"Atoms/nm^3 is: {atomic_density.to('nm**-3'):.0f}\")\n",
    "\n",
    "for job in project: #iterate over all jobs using a simple for loop on the `project`\n",
    "    chain = Alkylsilane(chain_length=job.sp.chain_length) #create a chain\n",
    "    surface = SilicaInterface()\n",
    "    surface_area = surface.box.Lx * surface.box.Ly\n",
    "    n_chains=int(job.sp.chain_density*surface_area)\n",
    "    graft_pattern = mb.Random2DPattern(n_chains, seed=job.sp.seed)\n",
    "    monolayer = Monolayer(surface, graft_pattern, chain, n_chains=n_chains)\n",
    "    monolayer.name = \"surface\"\n",
    "    n_waters = int(surface_area*job.sp.solvent_box_height*atomic_density.to(\"nm**-3\").value)\n",
    "    print(f\"Adding {n_waters:d} waters to the system.\")\n",
    "    solvated_monolayer = SolvatedMonolayer(monolayer, water, n_waters, job.sp.solvent_box_height)\n",
    "    job_compoundDict[job] = { # store the saved components for visualization\n",
    "        \"water\":water, \n",
    "        \"chain\": chain, \n",
    "        \"surface\":surface, \n",
    "        \"solvated_monolayer\":solvated_monolayer\n",
    "    }\n"
   ]
  },
  {
   "cell_type": "markdown",
   "id": "1a2e5a90",
   "metadata": {},
   "source": [
    "Let's visualize the monolayer that was built."
   ]
  },
  {
   "cell_type": "code",
   "execution_count": 75,
   "id": "3e7b8d53",
   "metadata": {},
   "outputs": [],
   "source": [
    "solvated_monolayer.visualize()"
   ]
  },
  {
   "cell_type": "markdown",
   "id": "329c81ba",
   "metadata": {},
   "source": [
    "#### Challenge Problem: The water was packed at too low of a density.\n",
    "Try to pack the water at a higher density. Rerun the line\n",
    "`solvent_density = 0.35 * u.g/u.cm**3 # g/cm^3` \n",
    "at a density of 0.99 for a better packed system.\n",
    "Also, there looks like there's a gap in between the water box and the top of the surface. Fix that by adding\n",
    "\n",
    "\n",
    "`solvated_monolayer.children[1].translate([0,0,-0.3])`\n",
    "\n",
    "\n",
    "To move just the water molecules down by 0.3 nm. This should be added after the line\n",
    "\n",
    "\n",
    "`solvated_monolayer = SolvatedMonolayer(monolayer, water, n_waters, job.sp.solvent_box_height)`"
   ]
  },
  {
   "cell_type": "markdown",
   "id": "8bd6f9a5",
   "metadata": {},
   "source": [
    "## Apply Forcefields\n",
    "---\n",
    "The forcefields are stored on disk as XML files. These define all of the forces needed for the simulation. Multiple forcefields can be applied to different molecules in the `mBuild` compound but be certain that these forcefields are compatible (i.e. same mixing rule, 1-4 scaling, cutoffs)\n",
    "\n",
    "We can iterate through the jobs, grab the solvated surfaces, load the water forcefield specified in `job.sp.water_model` from the `xmls/` directory in this project, and create our parameterized GMSO `Topology`. \n",
    "\n",
    "First though, let's look at the syntax for the apply step. "
   ]
  },
  {
   "cell_type": "code",
   "execution_count": 76,
   "id": "0760793c",
   "metadata": {
    "scrolled": true
   },
   "outputs": [
    {
     "name": "stdout",
     "output_type": "stream",
     "text": [
      "Help on function apply in module gmso.parameterization.parameterize:\n",
      "\n",
      "apply(top, forcefields, match_ff_by='molecule', identify_connections=False, identify_connected_components=True, use_molecule_info=False, assert_bond_params=True, assert_angle_params=True, assert_dihedral_params=True, assert_improper_params=False, remove_untyped=False, fast_copy=True)\n",
      "    Set Topology parameter types from GMSO ForceFields.\n",
      "    \n",
      "    Parameters\n",
      "    ----------\n",
      "    top: gmso.core.topology.Topology, required\n",
      "        The GMSO topology on which to apply forcefields\n",
      "    \n",
      "    forcefields: ForceField or dict, required\n",
      "        The forcefield to apply. If a dictionary is used the keys are labels that match\n",
      "        the molecule name (specified as a label of site), and the values are gmso ForceField objects that gets applied\n",
      "        to the specified molecule.\n",
      "        Note: if a Topology with no molecule is provided, this option will only take\n",
      "        a ForceField object. If a dictionary of ForceFields is provided, this method will\n",
      "        fail.\n",
      "    \n",
      "    match_ff_by: str, optional, default=\"molecule\"\n",
      "        They site's tag used to match the forcefields provided above to the Topology.\n",
      "        Options include \"molecule\" and \"group\". This option is only valid if forcefields are provided\n",
      "        as a dict.\n",
      "    \n",
      "    identify_connections: bool, optional, default=False\n",
      "        If true, add connections identified using networkx graph matching to match\n",
      "        the topology's bonding graph to smaller sub-graphs that correspond to an angle,\n",
      "        dihedral, improper etc\n",
      "    \n",
      "    identify_connected_components: bool, optional, default=True\n",
      "        A flag to determine whether or not to search the topology for repeated disconnected\n",
      "        structures, otherwise known as molecules and type each molecule only once.\n",
      "    \n",
      "    use_molecule_info: bool, optional, default=False\n",
      "        A flag to determine whether or not to look at site.residue_name to look parameterize\n",
      "        each molecule only once. Currently unused.\n",
      "    \n",
      "    assert_bond_params : bool, optional, default=True\n",
      "        If True, an error is raised if parameters are not found for all system\n",
      "        bonds.\n",
      "    \n",
      "    assert_angle_params : bool, optional, default=True\n",
      "        If True, an error is raised if parameters are not found for all system\n",
      "        angles.\n",
      "    \n",
      "    assert_dihedral_params : bool, optional, default=True\n",
      "        If True, an error is raised if parameters are not found for all system\n",
      "        proper dihedrals.\n",
      "    \n",
      "    assert_improper_params : bool, optional, default=False\n",
      "        If True, an error is raised if parameters are not found for all system\n",
      "        improper dihedrals.\n",
      "    \n",
      "    remove_untyped : bool, optional, default=False\n",
      "        If True, after the atomtyping and parameterization step, remove all connection\n",
      "        that has no connection_type.\n",
      "    \n",
      "    fast_copy : bool, optional, default=True\n",
      "        If True, sympy expressions and parameters will not be deep copied during replicated\n",
      "        parameterization. This can lead to the potentials for multiple sites/connections\n",
      "        to be changed if a single parameter_type independent variable or expression is\n",
      "        modified after the topology is parameterized. However, this leads to much faster\n",
      "        application of forcefield parameters, and so is defaulted to True. Note that\n",
      "        this should be changed to False if further modification of expressions are\n",
      "        necessary post parameterization.\n",
      "\n"
     ]
    }
   ],
   "source": [
    "from gmso.parameterization import apply\n",
    "help(apply)"
   ]
  },
  {
   "cell_type": "code",
   "execution_count": 77,
   "id": "e02b9362",
   "metadata": {},
   "outputs": [
    {
     "name": "stderr",
     "output_type": "stream",
     "text": [
      "/Users/calcraven/Dropbox/Mac/Documents/Vanderbilt/Research/MoSDeF/Workshops/2023-CECAM-Workshop/git_repos/gmso/gmso/core/atom_type.py:198: UserWarning: Masses are assumed to be in units of g/mol\n",
      "  warnings.warn(UNIT_WARNING_STRING.format(\"Masses\", \"g/mol\"))\n",
      "/Users/calcraven/Dropbox/Mac/Documents/Vanderbilt/Research/MoSDeF/Workshops/2023-CECAM-Workshop/git_repos/gmso/gmso/core/atom_type.py:209: UserWarning: Charges are assumed to be in units of elementary charge\n",
      "  warnings.warn(\n",
      "/Users/calcraven/Dropbox/Mac/Documents/Vanderbilt/Research/MoSDeF/Workshops/2023-CECAM-Workshop/git_repos/gmso/gmso/core/forcefield.py:528: UserWarning: ImproperType between atoms SI, OG, OG and OG is missing from the ForceField.\n",
      "  warnings.warn(msg)\n",
      "/Users/calcraven/Dropbox/Mac/Documents/Vanderbilt/Research/MoSDeF/Workshops/2023-CECAM-Workshop/git_repos/gmso/gmso/core/forcefield.py:528: UserWarning: ImproperType between atoms opls_1002, opls_1001, opls_1001 and opls_1001 is missing from the ForceField.\n",
      "  warnings.warn(msg)\n",
      "/Users/calcraven/Dropbox/Mac/Documents/Vanderbilt/Research/MoSDeF/Workshops/2023-CECAM-Workshop/git_repos/gmso/gmso/core/forcefield.py:528: UserWarning: ImproperType between atoms opls_1002, opls_1001, opls_1007 and opls_1001 is missing from the ForceField.\n",
      "  warnings.warn(msg)\n",
      "/Users/calcraven/Dropbox/Mac/Documents/Vanderbilt/Research/MoSDeF/Workshops/2023-CECAM-Workshop/git_repos/gmso/gmso/core/forcefield.py:528: UserWarning: ImproperType between atoms opls_1002, opls_1007, opls_1001 and opls_1001 is missing from the ForceField.\n",
      "  warnings.warn(msg)\n",
      "/Users/calcraven/Dropbox/Mac/Documents/Vanderbilt/Research/MoSDeF/Workshops/2023-CECAM-Workshop/git_repos/gmso/gmso/core/forcefield.py:528: UserWarning: ImproperType between atoms opls_1002, opls_1001, opls_1001 and opls_1007 is missing from the ForceField.\n",
      "  warnings.warn(msg)\n",
      "/Users/calcraven/Dropbox/Mac/Documents/Vanderbilt/Research/MoSDeF/Workshops/2023-CECAM-Workshop/git_repos/gmso/gmso/core/forcefield.py:528: UserWarning: ImproperType between atoms SI, OG, OH and OG is missing from the ForceField.\n",
      "  warnings.warn(msg)\n",
      "/Users/calcraven/Dropbox/Mac/Documents/Vanderbilt/Research/MoSDeF/Workshops/2023-CECAM-Workshop/git_repos/gmso/gmso/core/forcefield.py:528: UserWarning: ImproperType between atoms opls_1002, opls_1001, opls_1008 and opls_1001 is missing from the ForceField.\n",
      "  warnings.warn(msg)\n",
      "/Users/calcraven/Dropbox/Mac/Documents/Vanderbilt/Research/MoSDeF/Workshops/2023-CECAM-Workshop/git_repos/gmso/gmso/core/forcefield.py:528: UserWarning: ImproperType between atoms SI, OH, OG and OG is missing from the ForceField.\n",
      "  warnings.warn(msg)\n",
      "/Users/calcraven/Dropbox/Mac/Documents/Vanderbilt/Research/MoSDeF/Workshops/2023-CECAM-Workshop/git_repos/gmso/gmso/core/forcefield.py:528: UserWarning: ImproperType between atoms opls_1002, opls_1008, opls_1001 and opls_1001 is missing from the ForceField.\n",
      "  warnings.warn(msg)\n",
      "/Users/calcraven/Dropbox/Mac/Documents/Vanderbilt/Research/MoSDeF/Workshops/2023-CECAM-Workshop/git_repos/gmso/gmso/core/forcefield.py:528: UserWarning: ImproperType between atoms SI, OG, OG and OH is missing from the ForceField.\n",
      "  warnings.warn(msg)\n",
      "/Users/calcraven/Dropbox/Mac/Documents/Vanderbilt/Research/MoSDeF/Workshops/2023-CECAM-Workshop/git_repos/gmso/gmso/core/forcefield.py:528: UserWarning: ImproperType between atoms opls_1002, opls_1001, opls_1001 and opls_1008 is missing from the ForceField.\n",
      "  warnings.warn(msg)\n",
      "/Users/calcraven/Dropbox/Mac/Documents/Vanderbilt/Research/MoSDeF/Workshops/2023-CECAM-Workshop/git_repos/gmso/gmso/core/forcefield.py:528: UserWarning: ImproperType between atoms CT, HC, HC and CT is missing from the ForceField.\n",
      "  warnings.warn(msg)\n",
      "/Users/calcraven/Dropbox/Mac/Documents/Vanderbilt/Research/MoSDeF/Workshops/2023-CECAM-Workshop/git_repos/gmso/gmso/core/forcefield.py:528: UserWarning: ImproperType between atoms opls_136, opls_140, opls_140 and opls_136 is missing from the ForceField.\n",
      "  warnings.warn(msg)\n",
      "/Users/calcraven/Dropbox/Mac/Documents/Vanderbilt/Research/MoSDeF/Workshops/2023-CECAM-Workshop/git_repos/gmso/gmso/core/forcefield.py:528: UserWarning: ImproperType between atoms opls_136, opls_140, opls_140 and opls_135 is missing from the ForceField.\n",
      "  warnings.warn(msg)\n",
      "/Users/calcraven/Dropbox/Mac/Documents/Vanderbilt/Research/MoSDeF/Workshops/2023-CECAM-Workshop/git_repos/gmso/gmso/core/forcefield.py:528: UserWarning: ImproperType between atoms CT, HC, CT and CT is missing from the ForceField.\n",
      "  warnings.warn(msg)\n",
      "/Users/calcraven/Dropbox/Mac/Documents/Vanderbilt/Research/MoSDeF/Workshops/2023-CECAM-Workshop/git_repos/gmso/gmso/core/forcefield.py:528: UserWarning: ImproperType between atoms opls_136, opls_140, opls_136 and opls_135 is missing from the ForceField.\n",
      "  warnings.warn(msg)\n",
      "/Users/calcraven/Dropbox/Mac/Documents/Vanderbilt/Research/MoSDeF/Workshops/2023-CECAM-Workshop/git_repos/gmso/gmso/core/forcefield.py:528: UserWarning: ImproperType between atoms CT, CT, HC and HC is missing from the ForceField.\n",
      "  warnings.warn(msg)\n",
      "/Users/calcraven/Dropbox/Mac/Documents/Vanderbilt/Research/MoSDeF/Workshops/2023-CECAM-Workshop/git_repos/gmso/gmso/core/forcefield.py:528: UserWarning: ImproperType between atoms opls_136, opls_136, opls_140 and opls_140 is missing from the ForceField.\n",
      "  warnings.warn(msg)\n",
      "/Users/calcraven/Dropbox/Mac/Documents/Vanderbilt/Research/MoSDeF/Workshops/2023-CECAM-Workshop/git_repos/gmso/gmso/core/forcefield.py:528: UserWarning: ImproperType between atoms CT, CT, HC and CT is missing from the ForceField.\n",
      "  warnings.warn(msg)\n",
      "/Users/calcraven/Dropbox/Mac/Documents/Vanderbilt/Research/MoSDeF/Workshops/2023-CECAM-Workshop/git_repos/gmso/gmso/core/forcefield.py:528: UserWarning: ImproperType between atoms opls_136, opls_136, opls_140 and opls_136 is missing from the ForceField.\n",
      "  warnings.warn(msg)\n",
      "/Users/calcraven/Dropbox/Mac/Documents/Vanderbilt/Research/MoSDeF/Workshops/2023-CECAM-Workshop/git_repos/gmso/gmso/core/forcefield.py:528: UserWarning: ImproperType between atoms opls_136, opls_136, opls_140 and opls_1004 is missing from the ForceField.\n",
      "  warnings.warn(msg)\n",
      "/Users/calcraven/Dropbox/Mac/Documents/Vanderbilt/Research/MoSDeF/Workshops/2023-CECAM-Workshop/git_repos/gmso/gmso/core/forcefield.py:528: UserWarning: ImproperType between atoms opls_136, opls_140, opls_140 and opls_1004 is missing from the ForceField.\n",
      "  warnings.warn(msg)\n",
      "/Users/calcraven/Dropbox/Mac/Documents/Vanderbilt/Research/MoSDeF/Workshops/2023-CECAM-Workshop/git_repos/gmso/gmso/core/forcefield.py:528: UserWarning: ImproperType between atoms opls_1004, opls_136, opls_140 and opls_140 is missing from the ForceField.\n",
      "  warnings.warn(msg)\n",
      "/Users/calcraven/Dropbox/Mac/Documents/Vanderbilt/Research/MoSDeF/Workshops/2023-CECAM-Workshop/git_repos/gmso/gmso/core/forcefield.py:528: UserWarning: ImproperType between atoms CT, CT, HC and SI is missing from the ForceField.\n",
      "  warnings.warn(msg)\n",
      "/Users/calcraven/Dropbox/Mac/Documents/Vanderbilt/Research/MoSDeF/Workshops/2023-CECAM-Workshop/git_repos/gmso/gmso/core/forcefield.py:528: UserWarning: ImproperType between atoms opls_1004, opls_136, opls_140 and opls_1003 is missing from the ForceField.\n",
      "  warnings.warn(msg)\n",
      "/Users/calcraven/Dropbox/Mac/Documents/Vanderbilt/Research/MoSDeF/Workshops/2023-CECAM-Workshop/git_repos/gmso/gmso/core/forcefield.py:528: UserWarning: ImproperType between atoms CT, HC, HC and SI is missing from the ForceField.\n",
      "  warnings.warn(msg)\n",
      "/Users/calcraven/Dropbox/Mac/Documents/Vanderbilt/Research/MoSDeF/Workshops/2023-CECAM-Workshop/git_repos/gmso/gmso/core/forcefield.py:528: UserWarning: ImproperType between atoms opls_1004, opls_140, opls_140 and opls_1003 is missing from the ForceField.\n",
      "  warnings.warn(msg)\n",
      "/Users/calcraven/Dropbox/Mac/Documents/Vanderbilt/Research/MoSDeF/Workshops/2023-CECAM-Workshop/git_repos/gmso/gmso/core/forcefield.py:528: UserWarning: ImproperType between atoms opls_135, opls_136, opls_140 and opls_140 is missing from the ForceField.\n",
      "  warnings.warn(msg)\n",
      "/Users/calcraven/Dropbox/Mac/Documents/Vanderbilt/Research/MoSDeF/Workshops/2023-CECAM-Workshop/git_repos/gmso/gmso/core/forcefield.py:528: UserWarning: ImproperType between atoms CT, HC, HC and HC is missing from the ForceField.\n",
      "  warnings.warn(msg)\n",
      "/Users/calcraven/Dropbox/Mac/Documents/Vanderbilt/Research/MoSDeF/Workshops/2023-CECAM-Workshop/git_repos/gmso/gmso/core/forcefield.py:528: UserWarning: ImproperType between atoms opls_135, opls_140, opls_140 and opls_140 is missing from the ForceField.\n",
      "  warnings.warn(msg)\n",
      "/Users/calcraven/Dropbox/Mac/Documents/Vanderbilt/Research/MoSDeF/Workshops/2023-CECAM-Workshop/git_repos/gmso/gmso/core/forcefield.py:528: UserWarning: ImproperType between atoms SI, OG, CT and OH is missing from the ForceField.\n",
      "  warnings.warn(msg)\n",
      "/Users/calcraven/Dropbox/Mac/Documents/Vanderbilt/Research/MoSDeF/Workshops/2023-CECAM-Workshop/git_repos/gmso/gmso/core/forcefield.py:528: UserWarning: ImproperType between atoms opls_1003, opls_1007, opls_1004 and opls_1005 is missing from the ForceField.\n",
      "  warnings.warn(msg)\n",
      "/Users/calcraven/Dropbox/Mac/Documents/Vanderbilt/Research/MoSDeF/Workshops/2023-CECAM-Workshop/git_repos/gmso/gmso/core/forcefield.py:528: UserWarning: ImproperType between atoms SI, OG, OH and OH is missing from the ForceField.\n",
      "  warnings.warn(msg)\n",
      "/Users/calcraven/Dropbox/Mac/Documents/Vanderbilt/Research/MoSDeF/Workshops/2023-CECAM-Workshop/git_repos/gmso/gmso/core/forcefield.py:528: UserWarning: ImproperType between atoms opls_1003, opls_1007, opls_1005 and opls_1005 is missing from the ForceField.\n",
      "  warnings.warn(msg)\n",
      "/Users/calcraven/Dropbox/Mac/Documents/Vanderbilt/Research/MoSDeF/Workshops/2023-CECAM-Workshop/git_repos/gmso/gmso/core/forcefield.py:528: UserWarning: ImproperType between atoms SI, CT, OH and OH is missing from the ForceField.\n",
      "  warnings.warn(msg)\n",
      "/Users/calcraven/Dropbox/Mac/Documents/Vanderbilt/Research/MoSDeF/Workshops/2023-CECAM-Workshop/git_repos/gmso/gmso/core/forcefield.py:528: UserWarning: ImproperType between atoms opls_1003, opls_1004, opls_1005 and opls_1005 is missing from the ForceField.\n",
      "  warnings.warn(msg)\n"
     ]
    }
   ],
   "source": [
    "surfaceFF = gmso.ForceField(\"xmls/oplsaa.xml\") # load a general opls all atom forcefield from the directory\n",
    "\n",
    "for job in project:\n",
    "    ff_path = os.path.join(\"xmls\", job.sp.water_model+\".xml\")\n",
    "    waterFF = gmso.ForceField(ff_path)\n",
    "    top = job_compoundDict[job][\"solvated_monolayer\"].to_gmso()\n",
    "    top.identify_connections() # generate bonds, angles, and dihedrals\n",
    "    parameterized_top = apply(\n",
    "        top, forcefields={\"surface\": surfaceFF, \"water\":waterFF}, \n",
    "        identify_connected_components=False\n",
    "    )\n",
    "    job_compoundDict[job][\"parameterized_top\"] = parameterized_top\n",
    "                              \n",
    "parameterized_top   "
   ]
  },
  {
   "cell_type": "markdown",
   "id": "06afd3a4",
   "metadata": {},
   "source": [
    "#### Challenge problem: Identify the aspectes of the parameterized topology\n",
    "What is the bonded equation that is being used from both of our forcefields?\n",
    "\n",
    "To identify this, we need to interrogate the `parameterized_topology` object. Components are stored in IndexedSets. These can be accessed via list indexing.\n",
    "\n",
    "What is the number of unique bond types in the topology?\n",
    "\n",
    "To identify that, use a filter to look for bond_types with a unique pair of atom classes"
   ]
  },
  {
   "cell_type": "code",
   "execution_count": 79,
   "id": "6b4047d4",
   "metadata": {},
   "outputs": [
    {
     "data": {
      "text/plain": [
       "<BondType HarmonicBondPotential,\n",
       " expression: 0.5*k*(r - r_eq)**2,\n",
       " id: 7544581584, \n",
       " parameters: {'k': unyt_quantity(251040., 'kJ/(mol*nm**2)'), 'r_eq': unyt_quantity(0.165, 'nm')},\n",
       "member types: ('opls_1002', 'opls_1001')>"
      ]
     },
     "execution_count": 79,
     "metadata": {},
     "output_type": "execute_result"
    }
   ],
   "source": [
    "parameterized_top.bonds[?]???_type.expression # access index 0 and print then access the bond_type.expression\n",
    "# this can also be done with angles, dihedrals, and impropers"
   ]
  },
  {
   "cell_type": "markdown",
   "id": "004d5dcd",
   "metadata": {},
   "source": [
    "#### Answer should look something like this:\n",
    "0.5𝑘(𝑟−𝑟𝑒𝑞)2"
   ]
  },
  {
   "cell_type": "markdown",
   "id": "89055660",
   "metadata": {},
   "source": [
    "Potential filters allow the user to specify what is `unique` about the type. These give a flexible set of methods to get the unique types in the system. For instance, there may be a set with unique parameters. Maybe you want to look at the set with unique full potential expressions. In this case, we will sort by the unique names of the atom_classes that make up the bonded atoms."
   ]
  },
  {
   "cell_type": "code",
   "execution_count": 87,
   "id": "d71bf36d",
   "metadata": {},
   "outputs": [
    {
     "data": {
      "text/plain": [
       "15"
      ]
     },
     "execution_count": 87,
     "metadata": {},
     "output_type": "execute_result"
    }
   ],
   "source": [
    "from gmso.core.views import PotentialFilters\n",
    "\n",
    "pfilter = PotentialFilters.UNIQUE_NAME_CLASS\n",
    "print(f\"There are {len(parameterized_top.bond_types(filter_by=pfilter))} uniquely named bond types\")\n",
    "# try a different filter from the PotentialFilters class"
   ]
  },
  {
   "cell_type": "markdown",
   "id": "29580c61",
   "metadata": {},
   "source": [
    "## Run Simulations\n",
    "---\n",
    "Now let's run our [HOOMD](https://hoomd-blue.readthedocs.io/en/v4.1.0/) simulations for each job."
   ]
  },
  {
   "cell_type": "code",
   "execution_count": 78,
   "id": "89d45b8a",
   "metadata": {
    "scrolled": true
   },
   "outputs": [
    {
     "name": "stderr",
     "output_type": "stream",
     "text": [
      "/Users/calcraven/Dropbox/Mac/Documents/Vanderbilt/Research/MoSDeF/Workshops/2023-CECAM-Workshop/git_repos/gmso/gmso/external/convert_hoomd.py:564: UserWarning: Orthorhombic box detected\n",
      "  warnings.warn(\"Orthorhombic box detected\")\n",
      "/Users/calcraven/Dropbox/Mac/Documents/Vanderbilt/Research/MoSDeF/Workshops/2023-CECAM-Workshop/git_repos/gmso/gmso/external/convert_hoomd.py:217: NotYetImplementedWarning: Only writing particle, bond, angle, proper and improper dihedral information.Special pairs are not currently written to GSD files\n",
      "  warnings.warn(\n",
      "/Users/calcraven/Dropbox/Mac/Documents/Vanderbilt/Research/MoSDeF/Workshops/2023-CECAM-Workshop/git_repos/gmso/gmso/external/convert_hoomd.py:276: UserWarning: Shifting coordinates to [-L/2, L/2]\n",
      "  warnings.warn(\"Shifting coordinates to [-L/2, L/2]\")\n",
      "/Users/calcraven/Dropbox/Mac/Documents/Vanderbilt/Research/MoSDeF/Workshops/2023-CECAM-Workshop/git_repos/gmso/gmso/external/convert_hoomd.py:380: UserWarning: 4142 bonds detected\n",
      "  warnings.warn(f\"{top.n_bonds} bonds detected\")\n",
      "/Users/calcraven/Dropbox/Mac/Documents/Vanderbilt/Research/MoSDeF/Workshops/2023-CECAM-Workshop/git_repos/gmso/gmso/external/convert_hoomd.py:412: UserWarning: 15 unique bond types detected\n",
      "  warnings.warn(f\"{len(unique_bond_types)} unique bond types detected\")\n",
      "/Users/calcraven/Dropbox/Mac/Documents/Vanderbilt/Research/MoSDeF/Workshops/2023-CECAM-Workshop/git_repos/gmso/gmso/external/convert_hoomd.py:459: UserWarning: 7721 angles detected\n",
      "  warnings.warn(f\"{top.n_angles} angles detected\")\n",
      "/Users/calcraven/Dropbox/Mac/Documents/Vanderbilt/Research/MoSDeF/Workshops/2023-CECAM-Workshop/git_repos/gmso/gmso/external/convert_hoomd.py:460: UserWarning: 25 unique angle types detected\n",
      "  warnings.warn(f\"{len(unique_angle_types)} unique angle types detected\")\n",
      "/Users/calcraven/Dropbox/Mac/Documents/Vanderbilt/Research/MoSDeF/Workshops/2023-CECAM-Workshop/git_repos/gmso/gmso/external/convert_hoomd.py:505: UserWarning: 10950 dihedrals detected\n",
      "  warnings.warn(f\"{top.n_dihedrals} dihedrals detected\")\n",
      "/Users/calcraven/Dropbox/Mac/Documents/Vanderbilt/Research/MoSDeF/Workshops/2023-CECAM-Workshop/git_repos/gmso/gmso/external/convert_hoomd.py:506: UserWarning: 27 unique dihedral types detected\n",
      "  warnings.warn(\n",
      "/Users/calcraven/Dropbox/Mac/Documents/Vanderbilt/Research/MoSDeF/Workshops/2023-CECAM-Workshop/git_repos/gmso/gmso/external/convert_hoomd.py:553: UserWarning: 4200 impropers detected\n",
      "  warnings.warn(f\"{top.n_impropers} impropers detected\")\n",
      "/Users/calcraven/Dropbox/Mac/Documents/Vanderbilt/Research/MoSDeF/Workshops/2023-CECAM-Workshop/git_repos/gmso/gmso/external/convert_hoomd.py:554: UserWarning: 17 unique dihedral types detected\n",
      "  warnings.warn(\n",
      "/Users/calcraven/Dropbox/Mac/Documents/Vanderbilt/Research/MoSDeF/Workshops/2023-CECAM-Workshop/git_repos/gmso/gmso/external/convert_hoomd.py:1190: UserWarning: RyckaertBellemansTorsionPotential will be converted to OPLSTorsionPotential.\n",
      "  warnings.warn(\n"
     ]
    }
   ],
   "source": [
    "def run_hoomd(job, gmso_snapshot, gmso_forces, forces_base_units, n_steps=1000):\n",
    "    \"\"\"Simulation configuration and runtime parameters.\"\"\"\n",
    "    # Uses HOOMD 3\n",
    "    # Fix bottom of surface\n",
    "    import hoomd\n",
    "\n",
    "    temp = job.sp.temperature * u.K\n",
    "    kT = temp.to_equivalent(\"kJ/mol\", \"thermal\").value\n",
    "\n",
    "    cpu = hoomd.device.CPU()\n",
    "    sim = hoomd.Simulation(device=cpu, seed=1)\n",
    "    # sim.create_state_from_gsd(\"top.gsd\") # does not work\n",
    "    sim.create_state_from_snapshot(gmso_snapshot)\n",
    "    sim.operations.integrator = hoomd.md.Integrator(dt=0.001)\n",
    "    sim.operations.integrator.forces.extend(\n",
    "        list(set().union(*gmso_forces.values()))\n",
    "    )\n",
    "    #sim.operations.integrator.forces.extend(gmso_forces)\n",
    "\n",
    "    nvt = hoomd.md.methods.NVT(\n",
    "        kT=kT, tau=1.0, filter=hoomd.filter.All()\n",
    "    )\n",
    "    sim.operations.integrator.methods.append(nvt)\n",
    "\n",
    "    sim.state.thermalize_particle_momenta(filter=hoomd.filter.All(), kT=kT)\n",
    "    thermodynamic_properties = hoomd.md.compute.ThermodynamicQuantities(\n",
    "        filter=hoomd.filter.All()\n",
    "    )\n",
    "\n",
    "    sim.operations.computes.append(thermodynamic_properties)\n",
    "    logger = hoomd.logging.Logger()\n",
    "    logger.add(thermodynamic_properties)\n",
    "    import os\n",
    "    if os.path.exists(job.fn('trajectory.gsd')):\n",
    "        os.remove(job.fn(\"trajectory.gsd\"))\n",
    "    gsd_writer = hoomd.write.GSD(\n",
    "        filename=job.fn('trajectory.gsd'),\n",
    "        trigger=hoomd.trigger.Periodic(1000),\n",
    "         mode='xb',\n",
    "         filter=hoomd.filter.All(),\n",
    "         logger=logger\n",
    "    )\n",
    "    sim.operations.writers.append(gsd_writer)\n",
    "    outlogger = hoomd.logging.Logger(categories=['scalar', 'string'])\n",
    "    outlogger.add(sim, quantities=['timestep', 'tps'])\n",
    "    outlogger.add(thermodynamic_properties, ['kinetic_temperature'])\n",
    "    table = hoomd.write.Table(\n",
    "        trigger=hoomd.trigger.Periodic(period=100),\n",
    "        logger=outlogger\n",
    "    )\n",
    "    sim.operations.writers.append(table)\n",
    "    sim.run(n_steps) \n",
    "    \n",
    "\n"
   ]
  },
  {
   "cell_type": "code",
   "execution_count": null,
   "id": "0f321b1c",
   "metadata": {},
   "outputs": [],
   "source": [
    "from gmso.external import to_hoomd_forcefield, to_hoomd_snapshot\n",
    "\n",
    "base_units = { # this unit sytems lets hoomd non-dimensionalize all parameters in the forcefield\n",
    "    \"mass\": u.g / u.mol,\n",
    "    \"length\": u.nm,\n",
    "    \"energy\": u.kJ / u.mol,\n",
    "}\n",
    "for job in project:\n",
    "    parameterized_top = job_compoundDict[job][\"parameterized_top\"]\n",
    "    gmso_snapshot, snapshot_base_units = to_hoomd_snapshot( # TODO: simulation forces and connections are ordered differently\n",
    "        parameterized_top, base_units=base_units\n",
    "    )\n",
    "    gmso_forces, forces_base_units = to_hoomd_forcefield( #TODO: can't handle dimensionless parameters currently, PR incoming\n",
    "        parameterized_top,\n",
    "        r_cut=1.4,\n",
    "        base_units=base_units,\n",
    "        pppm_kwargs={\"resolution\": (24,24,24), \"order\": 5},\n",
    "    )\n",
    "\n",
    "    run_hoomd(job, gmso_snapshot, gmso_forces, forces_base_units) # Run the simulation and save data to the workspace direcotires"
   ]
  },
  {
   "cell_type": "code",
   "execution_count": null,
   "id": "2b07980b",
   "metadata": {},
   "outputs": [],
   "source": [
    "!head solvated_surface_project/workspace/f959300be61c911cc8512fd1619077d2/trajectory.gsd"
   ]
  },
  {
   "cell_type": "markdown",
   "id": "9c9e33b8",
   "metadata": {},
   "source": [
    "## Analyze/record results\n",
    "---\n",
    "TODO: LETS PLOT SOMETHING INTERESTING"
   ]
  },
  {
   "cell_type": "code",
   "execution_count": null,
   "id": "20ed25a9",
   "metadata": {},
   "outputs": [],
   "source": [
    "import gsd\n",
    "data = gsd.hoomd.read_log('trajectory.gsd')\n",
    "timestep = data['configuration/step']\n",
    "potential_energy = data[\n",
    "    'log/md/compute/ThermodynamicQuantities/potential_energy']\n",
    "\n",
    "fig, ax = plt.subplots(1,1,figsize=(5, 3.09))\n",
    "ax.plot(timestep, potential_energy)\n",
    "ax.set_xlabel('timestep')\n",
    "ax.set_ylabel('potential energy')\n",
    "fig.show()"
   ]
  }
 ],
 "metadata": {
  "kernelspec": {
   "display_name": "Python 3 (ipykernel)",
   "language": "python",
   "name": "python3"
  },
  "language_info": {
   "codemirror_mode": {
    "name": "ipython",
    "version": 3
   },
   "file_extension": ".py",
   "mimetype": "text/x-python",
   "name": "python",
   "nbconvert_exporter": "python",
   "pygments_lexer": "ipython3",
   "version": "3.11.3"
  }
 },
 "nbformat": 4,
 "nbformat_minor": 5
}
