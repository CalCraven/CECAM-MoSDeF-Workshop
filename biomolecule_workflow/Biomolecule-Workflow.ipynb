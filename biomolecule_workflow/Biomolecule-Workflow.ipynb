{
 "cells": [
  {
   "cell_type": "markdown",
   "id": "c678f981",
   "metadata": {},
   "source": [
    "# MoSDeF Biomolecule Workflow\n",
    "\n",
    "\n",
    "### Exercise Stages:\n",
    "0. Setup enviroment on Google Colab\n",
    "1. Import libraries\n",
    "2. Load molecules\n",
    "    * input parameters are protein, solvent, and box size. </br>\n",
    "3. Pack a box of solvated protein\n",
    "4. Load forcefield\n",
    "    * use direct forcefields for each molecule type. </br>\n",
    "5. Apply forcefield\n",
    "    * apply to your molecule\n",
    "6. Identify missing angles\n",
    "    * modify xml file\n",
    "7. Reload forcefield\n",
    "8. Run simulation\n",
    "    * run NVT hoomd simulation. </br>\n",
    "9. Analysis\n",
    "    * plot energy\n",
    "---"
   ]
  },
  {
   "cell_type": "markdown",
   "id": "c4465df4",
   "metadata": {},
   "source": [
    "## 0. Set up environment on Google Colab\n",
    "---"
   ]
  },
  {
   "cell_type": "code",
   "execution_count": null,
   "id": "ced4730d",
   "metadata": {},
   "outputs": [],
   "source": [
    "!pip install -q condacolab\n",
    "import condacolab\n",
    "condacolab.install_miniforge()"
   ]
  },
  {
   "cell_type": "code",
   "execution_count": null,
   "id": "4c0c8fae",
   "metadata": {},
   "outputs": [],
   "source": [
    "import condacolab\n",
    "condacolab.check()\n",
    "\n",
    "!conda install mamba\n",
    "!git clone https://github.com/mosdef-hub/CECAM-MoSDeF-Workshop\n",
    "!mamba env update -n base CECAM-MoSDeF-Workshop/environment.yml\n",
    "\n",
    "!git clone https://github.com/mosdef-hub/gmso.git\n",
    "%cd gmso\n",
    "!git checkout -b 748-remove-gmso-xml-conversions\n",
    "!pip install -e .\n",
    "%cd .."
   ]
  },
  {
   "cell_type": "markdown",
   "id": "8e461f15",
   "metadata": {},
   "source": [
    "## 1. Import Libraries\n",
    "---"
   ]
  },
  {
   "cell_type": "code",
   "execution_count": null,
   "id": "4ec5245b",
   "metadata": {},
   "outputs": [],
   "source": [
    "# Import Libraries\n",
    "import mbuild as mb\n",
    "import gmso\n",
    "\n",
    "from pBuilder import Protein"
   ]
  },
  {
   "cell_type": "markdown",
   "id": "51e058dc",
   "metadata": {},
   "source": [
    "## 2. Load Molecules\n",
    "---"
   ]
  },
  {
   "cell_type": "markdown",
   "id": "af92f584",
   "metadata": {},
   "source": [
    "We can visualize the monomer units we will use to make our protein"
   ]
  },
  {
   "cell_type": "code",
   "execution_count": null,
   "id": "7b13a66e",
   "metadata": {},
   "outputs": [],
   "source": [
    "from pBuilder import Arginine, Glycine, Glutamine, Leucine, Alanine # R, G, Q, L, A\n",
    "\n",
    "mol = Glycine() # Feel free to replace this with the different amino acids listed above to see what they look like\n",
    "mol.visualize()"
   ]
  },
  {
   "cell_type": "markdown",
   "id": "077c2078",
   "metadata": {},
   "source": [
    "Here we will build up a protein based on the MaSp1 spider silk protein"
   ]
  },
  {
   "cell_type": "code",
   "execution_count": null,
   "id": "9b8764b8",
   "metadata": {},
   "outputs": [],
   "source": [
    "n_repeats = 2\n",
    "chain = Protein()\n",
    "nonrepeat = 'GGQGGAGQGGYGGLGSQGAGRGGLGGQ'\n",
    "repeat = 'GAGAAAAAAGGAGQGGTGGLGSQGAGRGGL'\n",
    "chain.name=\"Protein\"\n",
    "chain.build(nonrepeat+repeat*n_repeats)\n",
    "chain.translate(-chain.center) #translate_to, rotate, spin, rotate_dihedral\n",
    "chain.visualize()\n"
   ]
  },
  {
   "cell_type": "code",
   "execution_count": null,
   "id": "98b6f35b",
   "metadata": {},
   "outputs": [],
   "source": [
    "rotable_bond = list(chain.bonds())[301]\n",
    "chain.rotate_dihedral(bond=rotable_bond, phi=3.14) #translate_to, rotate, spin, rotate_dihedral\n",
    "# control energy minimization\n",
    "chain.visualize()"
   ]
  },
  {
   "cell_type": "code",
   "execution_count": null,
   "id": "4c2dfb1f",
   "metadata": {},
   "outputs": [],
   "source": [
    "water = mb.load(\"O\", smiles=True)\n",
    "water.name=\"H2O\"\n",
    "water_box = mb.fill_box(water, box=[5,5,5], n_compounds=100)\n",
    "water.visualize()"
   ]
  },
  {
   "cell_type": "markdown",
   "id": "0a549c40",
   "metadata": {},
   "source": [
    "## 3. Combine and Solvate\n",
    "---"
   ]
  },
  {
   "cell_type": "code",
   "execution_count": null,
   "id": "a11277bd",
   "metadata": {},
   "outputs": [],
   "source": [
    "packed_box = mb.fill_box([chain, water], n_compounds=[1,1000], box=[10,10,10])\n",
    "packed_box.print_hierarchy()\n",
    "packed_box.visualize() #doesn't show anything, is this a bug?"
   ]
  },
  {
   "cell_type": "code",
   "execution_count": null,
   "id": "dd4bfabf",
   "metadata": {},
   "outputs": [],
   "source": [
    "# save out and reload current state for future use\n",
    "packed_box.save(\"solvated_protein.pdb\", overwrite=True)\n",
    "reloaded_pdb = mb.load(\"solvated_protein.pdb\") #xyz, gro, lammpsdata, sdf, mol2, hoomdxml, json"
   ]
  },
  {
   "cell_type": "code",
   "execution_count": null,
   "id": "56a762fe",
   "metadata": {},
   "outputs": [],
   "source": [
    "! head \"solvated_protein.pdb\""
   ]
  },
  {
   "cell_type": "markdown",
   "id": "10f2b00c",
   "metadata": {},
   "source": [
    "## 4. Load Two ForceFields\n",
    "---"
   ]
  },
  {
   "cell_type": "markdown",
   "id": "361c65a1",
   "metadata": {},
   "source": [
    "A mosdef compatible implementation of the Generalized Amber Forcefield (GAFF) can be found [here](https://github.com/rsdefever/GAFF-foyer)"
   ]
  },
  {
   "cell_type": "code",
   "execution_count": null,
   "id": "3cbc57ba",
   "metadata": {},
   "outputs": [],
   "source": [
    "gaff_forcefield = gmso.ForceField(\"../forcefields/gaff.xml\")\n",
    "gaff_forcefield"
   ]
  },
  {
   "cell_type": "code",
   "execution_count": null,
   "id": "3df1dcc2",
   "metadata": {},
   "outputs": [],
   "source": [
    "tip3p_forcefield = gmso.ForceField(\"../forcefields/tip3p.xml\")\n",
    "tip3p_forcefield.combining_rule = \"geometric\"\n",
    "tip3p_forcefield"
   ]
  },
  {
   "cell_type": "markdown",
   "id": "33162e56",
   "metadata": {},
   "source": [
    "## 5. Apply Forcefield\n",
    "---"
   ]
  },
  {
   "cell_type": "code",
   "execution_count": null,
   "id": "0e49a6b0",
   "metadata": {},
   "outputs": [],
   "source": [
    "from gmso.parameterization import apply\n",
    "\n",
    "gmso_top = packed_box.to_gmso()\n",
    "forcefield_matchingDict = {\"Protein\":gaff_forcefield, \"H2O\":tip3p_forcefield}\n",
    "gmso_top = packed_box.to_gmso()\n",
    "parameterized_top = apply(\n",
    "    gmso_top, forcefield_matchingDict, identify_connections=True, \n",
    ") #Angles, dihedrals missing"
   ]
  },
  {
   "cell_type": "markdown",
   "id": "728839ff",
   "metadata": {},
   "source": [
    "### What Happened\n",
    "This error indicates that have particles in our mbuild system that are missing parameters in our xml forcefield file. We will show how to correct this below."
   ]
  },
  {
   "cell_type": "markdown",
   "id": "91cd6d8c",
   "metadata": {},
   "source": [
    "## 6. Identify missing parameters\n",
    "---"
   ]
  },
  {
   "cell_type": "code",
   "execution_count": null,
   "id": "0271a012",
   "metadata": {},
   "outputs": [],
   "source": [
    "gmso_top = packed_box.to_gmso()\n",
    "parameterized_top = apply(\n",
    "    gmso_top, forcefield_matchingDict, identify_connections=True, \n",
    "    assert_angle_params=False, assert_dihedral_params=False\n",
    ")"
   ]
  },
  {
   "cell_type": "code",
   "execution_count": null,
   "id": "b7c358a1",
   "metadata": {},
   "outputs": [],
   "source": [
    "missing_angles = set()\n",
    "for angle in gmso_top.angles:\n",
    "    if angle.angle_type is None:\n",
    "        missing_angles.add(angle.connection_members)\n",
    "        for i in range(3):\n",
    "            site = angle.connection_members[i]\n",
    "            print(site.atom_type.name, site.atom_type.description, site.residue)\n",
    "        print(\"###\\n\")"
   ]
  },
  {
   "cell_type": "code",
   "execution_count": null,
   "id": "7653aa58",
   "metadata": {},
   "outputs": [],
   "source": [
    "# make a copy of gaff.xml and add the following line to the section labeled HarmonicAngleForce:\n",
    "\"\"\"\n",
    "<Angle class1=\"c1\" class2=\"c3\" class3=\"n2\" angle=\"1.8242181341844732\" k=\"836.8000000000001\"/>\n",
    "<Angle class1=\"c13\" class2=\"c1\" class3=\"oh\" angle=\"1.6414931920303\" k=\"300.8000000000001\"/>\n",
    "\"\"\"\n",
    "# TODO: get changed doi for this forcefield, or version, and make a note\n",
    "# TODO: use a gmso forcefield xml, not a foyer xml\n",
    "# TODO: shrink forcefield to just necessary components"
   ]
  },
  {
   "cell_type": "markdown",
   "id": "c9bdeada",
   "metadata": {},
   "source": [
    "## 7. Reload and apply the forcefield\n",
    "---"
   ]
  },
  {
   "cell_type": "code",
   "execution_count": null,
   "id": "435a0aae",
   "metadata": {},
   "outputs": [],
   "source": [
    "gaff_forcefield = gmso.ForceField(\"../forcefields/gaff2.xml\")\n",
    "gmso_top = packed_box.to_gmso()\n",
    "forcefield_matchingDict = {\"Protein\":gaff_forcefield, \"H2O\":tip3p_forcefield}\n",
    "parameterized_top = apply(\n",
    "    gmso_top, forcefield_matchingDict, identify_connections=True, \n",
    ")"
   ]
  },
  {
   "cell_type": "markdown",
   "id": "fd41d5c7",
   "metadata": {},
   "source": [
    "## 7. Write HOOMD Objects\n",
    "---"
   ]
  },
  {
   "cell_type": "code",
   "execution_count": null,
   "id": "1bbfb573",
   "metadata": {},
   "outputs": [],
   "source": [
    "#parameterized_top.save(\"top.gsd\", overwrite=True)\n",
    "import unyt as u\n",
    "\n",
    "from gmso.external import to_hoomd_forcefield, to_hoomd_snapshot\n",
    "\n",
    "base_units = {\n",
    "    \"mass\": u.g / u.mol,\n",
    "    \"length\": u.nm,\n",
    "    \"energy\": u.kJ / u.mol,\n",
    "}\n",
    "\n",
    "gmso_snapshot, snapshot_base_units = to_hoomd_snapshot(\n",
    "    parameterized_top, base_units=base_units\n",
    ")\n",
    "gmso_forces, forces_base_units = to_hoomd_forcefield( #can't handle dimensionless parameters currently, PR incoming\n",
    "    parameterized_top,\n",
    "    r_cut=1.4,\n",
    "    base_units=base_units,\n",
    "    pppm_kwargs={\"resolution\": (64, 64, 64), \"order\": 7},\n",
    ")\n",
    "gmso_forces"
   ]
  },
  {
   "cell_type": "markdown",
   "id": "677da6a1",
   "metadata": {},
   "source": [
    "## 8. Run HOOMD Simulations\n",
    "---"
   ]
  },
  {
   "cell_type": "code",
   "execution_count": null,
   "id": "bfcedc13",
   "metadata": {},
   "outputs": [],
   "source": [
    "# Uses HOOMD 3\n",
    "# This won't work until 7 works, but this does work on an ethanol box\n",
    "import hoomd\n",
    "temp = 300 * u.K\n",
    "kT = temp.to_equivalent(\"kJ/mol\", \"thermal\").value\n",
    "\n",
    "cpu = hoomd.device.CPU()\n",
    "sim = hoomd.Simulation(device=cpu, seed=1)\n",
    "# sim.create_state_from_gsd(\"top.gsd\") # does not work\n",
    "sim.create_state_from_snapshot(gmso_snapshot)\n",
    "sim.operations.integrator = hoomd.md.Integrator(dt=0.001)\n",
    "sim.operations.integrator.forces.extend(\n",
    "    list(set().union(*gmso_forces.values()))[:-1]\n",
    ")\n",
    "\n",
    "nvt = hoomd.md.methods.NVT(\n",
    "    kT=kT, tau=1.0, filter=hoomd.filter.All()\n",
    ")\n",
    "sim.operations.integrator.methods.append(nvt)\n",
    "\n",
    "sim.state.thermalize_particle_momenta(filter=hoomd.filter.All(), kT=kT)\n",
    "thermodynamic_properties = hoomd.md.compute.ThermodynamicQuantities(\n",
    "    filter=hoomd.filter.All()\n",
    ")\n",
    "\n",
    "sim.operations.computes.append(thermodynamic_properties)\n",
    "logger = hoomd.logging.Logger()\n",
    "logger.add(thermodynamic_properties)\n",
    "import os\n",
    "if os.path.exists('trajectory.gsd'):\n",
    "    os.remove(\"trajectory.gsd\")\n",
    "gsd_writer = hoomd.write.GSD(\n",
    "    filename='trajectory.gsd',\n",
    "    trigger=hoomd.trigger.Periodic(1000),\n",
    "     mode='xb',\n",
    "     filter=hoomd.filter.All(),\n",
    "     logger=logger\n",
    ")\n",
    "sim.operations.writers.append(gsd_writer)\n",
    "outlogger = hoomd.logging.Logger(categories=['scalar', 'string'])\n",
    "outlogger.add(sim, quantities=['timestep', 'tps'])\n",
    "outlogger.add(thermodynamic_properties, ['kinetic_temperature'])\n",
    "table = hoomd.write.Table(\n",
    "    trigger=hoomd.trigger.Periodic(period=100),\n",
    "    logger=outlogger\n",
    ")\n",
    "sim.operations.writers.append(table)\n",
    "sim.run(100)"
   ]
  },
  {
   "cell_type": "markdown",
   "id": "a80284d5",
   "metadata": {},
   "source": [
    "## 9. Analyze results\n",
    "---"
   ]
  },
  {
   "cell_type": "code",
   "execution_count": null,
   "id": "fc3119ed",
   "metadata": {},
   "outputs": [],
   "source": [
    "import gsd\n",
    "data = gsd.hoomd.read_log('trajectory.gsd')\n",
    "timestep = data['configuration/step']\n",
    "potential_energy = data[\n",
    "    'log/md/compute/ThermodynamicQuantities/potential_energy']\n",
    "\n",
    "fig, ax = plt.subplots(1,1,figsize=(5, 3.09))\n",
    "ax.plot(timestep, potential_energy)\n",
    "ax.set_xlabel('timestep')\n",
    "ax.set_ylabel('potential energy')\n",
    "fig.show()\n",
    "\n"
   ]
  },
  {
   "cell_type": "code",
   "execution_count": null,
   "id": "6244a181",
   "metadata": {},
   "outputs": [],
   "source": []
  }
 ],
 "metadata": {
  "kernelspec": {
   "display_name": "Python 3 (ipykernel)",
   "language": "python",
   "name": "python3"
  },
  "language_info": {
   "codemirror_mode": {
    "name": "ipython",
    "version": 3
   },
   "file_extension": ".py",
   "mimetype": "text/x-python",
   "name": "python",
   "nbconvert_exporter": "python",
   "pygments_lexer": "ipython3",
   "version": "3.8.17"
  }
 },
 "nbformat": 4,
 "nbformat_minor": 5
}
